{
 "cells": [
  {
   "cell_type": "markdown",
   "id": "57ea3339-adbd-4754-adfd-096c984b4af9",
   "metadata": {},
   "source": [
    "[Dave Gray - Python Tutorials for Beginners](https://www.youtube.com/playlist?list=PL0Zuz27SZ-6MQri81d012LwP5jvFZ_scc)"
   ]
  },
  {
   "cell_type": "markdown",
   "id": "f3c7ba7b-04c3-496d-860b-02c596fb5302",
   "metadata": {},
   "source": [
    "[Lesson 2](https://www.youtube.com/watch?v=fLAfa-BQtOQ&list=PL0Zuz27SZ-6MQri81d012LwP5jvFZ_scc&index=2)"
   ]
  },
  {
   "cell_type": "code",
   "execution_count": 14,
   "id": "64e4c474-9ad7-4020-a7c4-0a9acc30117d",
   "metadata": {},
   "outputs": [],
   "source": [
    "I = \"Jack\"\n",
    "I + \" is cool\"\n"
   ]
  },
  {
   "cell_type": "raw",
   "id": "85c0cabc-e3a3-40b8-bd46-2c102b34a110",
   "metadata": {},
   "source": [
    "Note that even though 'Jack is cool' printed, this was not stored in I.  So ' is cool' will be lost"
   ]
  },
  {
   "cell_type": "code",
   "execution_count": 15,
   "id": "c2975814-5790-4b0a-8cd9-56e45ceee266",
   "metadata": {},
   "outputs": [
    {
     "data": {
      "text/plain": [
       "'Jack is cool'"
      ]
     },
     "execution_count": 15,
     "metadata": {},
     "output_type": "execute_result"
    }
   ],
   "source": [
    "I"
   ]
  },
  {
   "cell_type": "code",
   "execution_count": 10,
   "id": "dce76cc3-ae60-42f1-a91c-8f12aa00ba58",
   "metadata": {},
   "outputs": [
    {
     "name": "stdout",
     "output_type": "stream",
     "text": [
      "\n",
      "********************\n",
      "*                  *\n",
      "*     WELCOME!     *\n",
      "*                  *\n",
      "********************\n"
     ]
    }
   ],
   "source": [
    "line01 = \"********************\"\n",
    "line02 = \"*                  *\"\n",
    "line03 = \"*     WELCOME!     *\"\n",
    "\n",
    "\n",
    "\n",
    "print('')\n",
    "print(line01)\n",
    "print(line02)\n",
    "print(line03)\n",
    "print(line02)\n",
    "print(line01)"
   ]
  },
  {
   "cell_type": "code",
   "execution_count": null,
   "id": "5474aa8c-27e4-42a4-88a1-80e16b9388a0",
   "metadata": {},
   "outputs": [],
   "source": []
  }
 ],
 "metadata": {
  "kernelspec": {
   "display_name": "Python 3 (ipykernel)",
   "language": "python",
   "name": "python3"
  },
  "language_info": {
   "codemirror_mode": {
    "name": "ipython",
    "version": 3
   },
   "file_extension": ".py",
   "mimetype": "text/x-python",
   "name": "python",
   "nbconvert_exporter": "python",
   "pygments_lexer": "ipython3",
   "version": "3.9.6"
  }
 },
 "nbformat": 4,
 "nbformat_minor": 5
}
