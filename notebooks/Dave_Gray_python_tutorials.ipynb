{
 "cells": [
  {
   "cell_type": "markdown",
   "id": "57ea3339-adbd-4754-adfd-096c984b4af9",
   "metadata": {},
   "source": [
    "[Dave Gray - Python Tutorials for Beginners](https://www.youtube.com/playlist?list=PL0Zuz27SZ-6MQri81d012LwP5jvFZ_scc)"
   ]
  },
  {
   "cell_type": "markdown",
   "id": "f3c7ba7b-04c3-496d-860b-02c596fb5302",
   "metadata": {},
   "source": [
    "[Lesson 2](https://www.youtube.com/watch?v=fLAfa-BQtOQ&list=PL0Zuz27SZ-6MQri81d012LwP5jvFZ_scc&index=2)"
   ]
  },
  {
   "cell_type": "code",
   "execution_count": 12,
   "id": "64e4c474-9ad7-4020-a7c4-0a9acc30117d",
   "metadata": {},
   "outputs": [
    {
     "data": {
      "text/plain": [
       "'Jack is cool'"
      ]
     },
     "execution_count": 12,
     "metadata": {},
     "output_type": "execute_result"
    }
   ],
   "source": [
    "I = \"Jack\"\n",
    "I + \" is cool\"\n"
   ]
  },
  {
   "cell_type": "raw",
   "id": "85c0cabc-e3a3-40b8-bd46-2c102b34a110",
   "metadata": {},
   "source": [
    "Note that even though 'Jack is cool' printed, this was not stored in I.  So ' is cool' will be lost"
   ]
  },
  {
   "cell_type": "code",
   "execution_count": 13,
   "id": "c2975814-5790-4b0a-8cd9-56e45ceee266",
   "metadata": {},
   "outputs": [
    {
     "data": {
      "text/plain": [
       "'Jack'"
      ]
     },
     "execution_count": 13,
     "metadata": {},
     "output_type": "execute_result"
    }
   ],
   "source": [
    "I"
   ]
  },
  {
   "cell_type": "code",
   "execution_count": 14,
   "id": "dce76cc3-ae60-42f1-a91c-8f12aa00ba58",
   "metadata": {},
   "outputs": [
    {
     "name": "stdout",
     "output_type": "stream",
     "text": [
      "\n",
      "********************\n",
      "*                  *\n",
      "*     WELCOME!     *\n",
      "*                  *\n",
      "********************\n"
     ]
    }
   ],
   "source": [
    "line01 = \"********************\"\n",
    "line02 = \"*                  *\"\n",
    "line03 = \"*     WELCOME!     *\"\n",
    "\n",
    "\n",
    "\n",
    "print('')\n",
    "print(line01)\n",
    "print(line02)\n",
    "print(line03)\n",
    "print(line02)\n",
    "print(line01)"
   ]
  },
  {
   "cell_type": "markdown",
   "id": "cde4f0a9-fda5-4987-b3c1-5e0db9dc2090",
   "metadata": {},
   "source": [
    "[Lesson 3](https://youtu.be/7BxUaeROVXI?si=zOKC33dalCSPPFY9)"
   ]
  },
  {
   "cell_type": "code",
   "execution_count": 28,
   "id": "7cb33ac8-b62c-4963-bba8-3564a541ec8f",
   "metadata": {},
   "outputs": [
    {
     "data": {
      "text/plain": [
       "4"
      ]
     },
     "execution_count": 28,
     "metadata": {},
     "output_type": "execute_result"
    }
   ],
   "source": [
    "2 ** 2"
   ]
  },
  {
   "cell_type": "code",
   "execution_count": 16,
   "id": "5d561d99-7d08-45df-a9ec-9e424dca36ac",
   "metadata": {},
   "outputs": [
    {
     "data": {
      "text/plain": [
       "64"
      ]
     },
     "execution_count": 16,
     "metadata": {},
     "output_type": "execute_result"
    }
   ],
   "source": [
    "2 ** 6"
   ]
  },
  {
   "cell_type": "code",
   "execution_count": 47,
   "id": "01a123a7-7265-45c5-95fb-8664b6a92e9f",
   "metadata": {},
   "outputs": [
    {
     "name": "stdout",
     "output_type": "stream",
     "text": [
      "value: 107 type: <class 'int'>\n"
     ]
    }
   ],
   "source": [
    "meaning = 45\n",
    "meaning += 62\n",
    "print(f'value: {meaning} type: {type(meaning)}')"
   ]
  },
  {
   "cell_type": "code",
   "execution_count": 48,
   "id": "a07a0add-05df-473a-9439-00428f5337b9",
   "metadata": {},
   "outputs": [
    {
     "name": "stdout",
     "output_type": "stream",
     "text": [
      "value: 10.7 type: <class 'float'>\n"
     ]
    }
   ],
   "source": [
    "meaning /= 10\n",
    "meaning\n",
    "print(f'value: {meaning} type: {type(meaning)}')"
   ]
  },
  {
   "cell_type": "code",
   "execution_count": 49,
   "id": "2016de5d-b997-4e40-b61c-ca072d35d7dd",
   "metadata": {},
   "outputs": [
    {
     "name": "stdout",
     "output_type": "stream",
     "text": [
      "value: 107.0 type: <class 'float'>\n"
     ]
    }
   ],
   "source": [
    "meaning *= 10\n",
    "meaning\n",
    "print(f'value: {meaning} type: {type(meaning)}')"
   ]
  },
  {
   "cell_type": "code",
   "execution_count": 50,
   "id": "701a08c1-8235-436f-9065-42148ea9f165",
   "metadata": {},
   "outputs": [
    {
     "name": "stdout",
     "output_type": "stream",
     "text": [
      "meaning == 107: True\n",
      "value: 107.0 type: <class 'float'>\n"
     ]
    }
   ],
   "source": [
    "print(f'meaning == 107: {meaning == 107}')\n",
    "print(f'value: {meaning} type: {type(meaning)}')"
   ]
  },
  {
   "cell_type": "code",
   "execution_count": 51,
   "id": "9952cf1c-d5aa-4952-9a5b-d17a2a400552",
   "metadata": {},
   "outputs": [
    {
     "name": "stdout",
     "output_type": "stream",
     "text": [
      "value: 107 type: <class 'int'>\n"
     ]
    }
   ],
   "source": [
    "meaning = round(meaning)\n",
    "meaning\n",
    "print(f'value: {meaning} type: {type(meaning)}')"
   ]
  },
  {
   "cell_type": "code",
   "execution_count": 52,
   "id": "f79a07c0-56e3-4f94-865e-0c15805457b9",
   "metadata": {},
   "outputs": [
    {
     "data": {
      "text/plain": [
       "'Jack MacDonald'"
      ]
     },
     "execution_count": 52,
     "metadata": {},
     "output_type": "execute_result"
    }
   ],
   "source": [
    "\"Jack \" + \"MacDonald\""
   ]
  },
  {
   "cell_type": "code",
   "execution_count": 54,
   "id": "e6eafc45-e255-42f3-94c0-82c47c027fa2",
   "metadata": {},
   "outputs": [
    {
     "name": "stdout",
     "output_type": "stream",
     "text": [
      "43 != 42: True\n"
     ]
    }
   ],
   "source": [
    "print(f'43 != 42: {43 != 42}')"
   ]
  },
  {
   "cell_type": "code",
   "execution_count": 24,
   "id": "cf8827d3-00d2-48b2-85bc-b482598b8810",
   "metadata": {
    "scrolled": true
   },
   "outputs": [
    {
     "name": "stdout",
     "output_type": "stream",
     "text": [
      "\n",
      "Right on!\n"
     ]
    }
   ],
   "source": [
    "meaning = 14\n",
    "print('')\n",
    "\n",
    "if meaning > 10:\n",
    "    print(\"Right on!\")\n",
    "else:\n",
    "    print(\"Not today\")"
   ]
  },
  {
   "cell_type": "markdown",
   "id": "59bce001-48d2-4cdb-b443-9bf971892678",
   "metadata": {},
   "source": [
    "[lesson 4](https://youtu.be/INGJh9DEaBM?si=h2ShEe8ii-osB8Lm)"
   ]
  },
  {
   "cell_type": "code",
   "execution_count": 6,
   "id": "6c8aa1d4-fb9e-4b75-b095-fcae4056a345",
   "metadata": {},
   "outputs": [],
   "source": [
    "first = \"Jack\"\n",
    "last = \"MacDonald\"\n"
   ]
  },
  {
   "cell_type": "code",
   "execution_count": 7,
   "id": "6bf287fe-aa8b-4f91-8b2e-5147794a78f4",
   "metadata": {},
   "outputs": [],
   "source": [
    "fullname = first + \" \" + last"
   ]
  },
  {
   "cell_type": "code",
   "execution_count": 8,
   "id": "0c8ca66c-d041-45ad-a81f-447e4e76faa1",
   "metadata": {},
   "outputs": [
    {
     "name": "stdout",
     "output_type": "stream",
     "text": [
      "Jack MacDonald\n"
     ]
    }
   ],
   "source": [
    "print(fullname)"
   ]
  },
  {
   "cell_type": "code",
   "execution_count": 9,
   "id": "7dfca942-2192-4dad-ab82-8497b336a30a",
   "metadata": {},
   "outputs": [
    {
     "name": "stdout",
     "output_type": "stream",
     "text": [
      "============MENU============\n",
      "Coffee..................  $1\n",
      "Muffin..................  $2\n",
      "Cheesecake..............  $4\n",
      "Ham and Tomato Sanga.... $14\n",
      "Tomato Soup.............  $6\n",
      "Chai Latte..............  $3\n",
      "Matcha Latte............  $4\n",
      "Bacon and Pancakes......  $9\n",
      "Waffles and icecream.... $11\n",
      "Milkshake...............  $7\n"
     ]
    }
   ],
   "source": [
    "title = \"menu\". upper()\n",
    "print(title.center(28, \"=\"))\n",
    "print(\"Coffee\".ljust(24, \".\") + \"$1\".rjust(4))\n",
    "print(\"Muffin\".ljust(24, \".\") + \"$2\".rjust(4))\n",
    "print(\"Cheesecake\".ljust(24, \".\") + \"$4\".rjust(4))\n",
    "print(\"Ham and Tomato Sanga\".ljust(24, \".\") + \"$14\".rjust(4))\n",
    "print(\"Tomato Soup\".ljust(24, \".\") + \"$6\".rjust(4))\n",
    "print(\"Chai Latte\".ljust(24, \".\") + \"$3\".rjust(4))\n",
    "print(\"Matcha Latte\".ljust(24, \".\") + \"$4\".rjust(4))\n",
    "print(\"Bacon and Pancakes\".ljust(24, \".\") + \"$9\".rjust(4))\n",
    "print(\"Waffles and icecream\".ljust(24, \".\") + \"$11\".rjust(4))\n",
    "print(\"Milkshake\".ljust(24, \".\") + \"$7\".rjust(4))"
   ]
  },
  {
   "cell_type": "code",
   "execution_count": 10,
   "id": "ce5f9227-5ccc-4f1f-b986-415705dd2c0c",
   "metadata": {},
   "outputs": [
    {
     "name": "stdout",
     "output_type": "stream",
     "text": [
      "<class 'int'>\n",
      "True\n"
     ]
    }
   ],
   "source": [
    "price = 100\n",
    "best_price = int(80)\n",
    "print(type(price))\n",
    "print(isinstance(best_price, int))"
   ]
  },
  {
   "cell_type": "code",
   "execution_count": 12,
   "id": "e022b22c-5779-4e7f-b6b0-12934b07344b",
   "metadata": {},
   "outputs": [
    {
     "name": "stdout",
     "output_type": "stream",
     "text": [
      "<class 'int'>\n"
     ]
    }
   ],
   "source": [
    "zipcode = \"10001\"\n",
    "zip_value = int(zipcode)\n",
    "print (type(zip_value))"
   ]
  },
  {
   "cell_type": "markdown",
   "id": "7c5f8061-2220-40de-9f6a-083ecf2a8d5d",
   "metadata": {},
   "source": [
    "[lesson 5](https://youtu.be/N94vSNBF-EI?si=Z4zOoSubrQwlPinM)"
   ]
  },
  {
   "cell_type": "code",
   "execution_count": 2,
   "id": "46b7f557-f81f-40cc-891f-62bedcc7c72b",
   "metadata": {},
   "outputs": [
    {
     "name": "stdout",
     "output_type": "stream",
     "text": [
      "\n"
     ]
    },
    {
     "name": "stdin",
     "output_type": "stream",
     "text": [
      "Enter...\n",
      "1 for Rock,\n",
      "2 for Paper, or \n",
      "3 Scissors: \n",
      "\n",
      " 3\n"
     ]
    },
    {
     "name": "stdout",
     "output_type": "stream",
     "text": [
      "\n",
      "You chose SCISSORS.\n",
      "Python chose PAPER.\n",
      "\n",
      "🎉 You win!\n"
     ]
    }
   ],
   "source": [
    "import sys\n",
    "import random\n",
    "from enum import Enum\n",
    "\n",
    "class RPS(Enum):\n",
    "    ROCK = 1\n",
    "    PAPER = 2\n",
    "    SCISSORS = 3\n",
    "\n",
    "\n",
    "print(\"\")\n",
    "playerchoice = input(\"Enter...\\n1 for Rock,\\n2 for Paper, or \\n3 Scissors: \\n\\n\")\n",
    "\n",
    "player = int(playerchoice)\n",
    "\n",
    "if player < 1 or player > 3:\n",
    "    sys.exit(\"You must enter 1, 2, or 3.\")\n",
    "\n",
    "computerchoice = random.choice(\"123\")\n",
    "\n",
    "computer = int(computerchoice)\n",
    "\n",
    "print(\"\")\n",
    "print(\"You chose \" + str(RPS(player)).replace('RPS.', '') + \".\")\n",
    "print(\"Python chose \" + str(RPS(computer)).replace('RPS.', '') + \".\")\n",
    "print(\"\")\n",
    "\n",
    "if player == 1 and computer == 3:\n",
    "    print(\"🎉 You win!\")\n",
    "elif player == 2 and computer == 1:\n",
    "    print(\"🎉 You win!\")\n",
    "elif player == 3 and computer == 2:\n",
    "    print(\"🎉 You win!\")\n",
    "elif player == computer:\n",
    "    print(\"😳 Tie game!\")\n",
    "else:\n",
    "    print(\"🐍 Python wins!\")"
   ]
  },
  {
   "cell_type": "markdown",
   "id": "e4b9a640-235f-41ef-ae62-01d39b13e22c",
   "metadata": {},
   "source": [
    "[lesson 6](https://youtu.be/KWKWswDfAb0?si=ZDVJLKoUlXsfw5Ol)"
   ]
  },
  {
   "cell_type": "code",
   "execution_count": 8,
   "id": "b1895165-6718-4d46-945a-df05f6da87c1",
   "metadata": {},
   "outputs": [
    {
     "name": "stdout",
     "output_type": "stream",
     "text": [
      "False\n",
      "Dave\n",
      "John\n",
      "2\n",
      "('Dave', 'John')\n",
      "('Dave', 'John')\n"
     ]
    }
   ],
   "source": [
    "users = ('Dave', 'John', 'Sarah')\n",
    "\n",
    "data = ('Dave', 42, True)\n",
    "\n",
    "emptylist = []\n",
    "\n",
    "print(\"Dave\" in emptylist)\n",
    "\n",
    "print(users[0])\n",
    "print(users[-2])\n",
    "\n",
    "print(users.index('Sarah'))\n",
    "\n",
    "print(users[0:2])\n",
    "print(users[-3:-1])"
   ]
  },
  {
   "cell_type": "code",
   "execution_count": 3,
   "id": "18a5ee33-d0bb-4cde-bdb0-4b0e782bd889",
   "metadata": {},
   "outputs": [],
   "source": [
    "mytuple = tuple(('Dave', 42, True))"
   ]
  },
  {
   "cell_type": "code",
   "execution_count": null,
   "id": "462229f7-93a2-447a-83a9-5eabf3a134b9",
   "metadata": {},
   "outputs": [],
   "source": []
  },
  {
   "cell_type": "code",
   "execution_count": null,
   "id": "76460b71-7b8c-4b18-aec7-5814aeedb8bb",
   "metadata": {},
   "outputs": [],
   "source": []
  },
  {
   "cell_type": "code",
   "execution_count": 14,
   "id": "949b92d2-18c4-4a88-99d9-fbe52e253493",
   "metadata": {},
   "outputs": [],
   "source": [
    "anothertuple = (2, 3, 6, 8, 2, 2)"
   ]
  },
  {
   "cell_type": "code",
   "execution_count": 11,
   "id": "5770c388-7609-4140-886a-8fe5187d7ebb",
   "metadata": {},
   "outputs": [
    {
     "name": "stdout",
     "output_type": "stream",
     "text": [
      "('Dave', 42, True)\n",
      "<class 'tuple'>\n",
      "<class 'tuple'>\n"
     ]
    }
   ],
   "source": [
    "print(mytuple)\n",
    "print(type(mytuple))\n",
    "print(type(anothertuple))"
   ]
  },
  {
   "cell_type": "code",
   "execution_count": 12,
   "id": "d80f1507-ba0d-4051-ba96-a69dbfc16f96",
   "metadata": {},
   "outputs": [
    {
     "name": "stdout",
     "output_type": "stream",
     "text": [
      "('Dave', 42, True, 'Neil')\n"
     ]
    }
   ],
   "source": [
    "newlist = list(mytuple)\n",
    "newlist.append('Neil')\n",
    "newtuple = tuple(newlist)\n",
    "print(newtuple)\n"
   ]
  },
  {
   "cell_type": "code",
   "execution_count": 13,
   "id": "03143678-7bb9-42c2-afbd-ac927bd50e71",
   "metadata": {},
   "outputs": [
    {
     "name": "stdout",
     "output_type": "stream",
     "text": [
      "2\n",
      "3\n",
      "[6, 8, 2, 2]\n"
     ]
    }
   ],
   "source": [
    "(one, two, *hey) = anothertuple\n",
    "print(one)\n",
    "print(two)\n",
    "print(hey)"
   ]
  },
  {
   "cell_type": "code",
   "execution_count": 15,
   "id": "81fafb11-9c1a-4baf-81c1-49a4f1bb989d",
   "metadata": {},
   "outputs": [
    {
     "name": "stdout",
     "output_type": "stream",
     "text": [
      "3\n"
     ]
    }
   ],
   "source": [
    "print(anothertuple.count(2))"
   ]
  },
  {
   "cell_type": "code",
   "execution_count": null,
   "id": "30665f06-4f18-46a2-94da-b6b7dd67574f",
   "metadata": {},
   "outputs": [],
   "source": []
  }
 ],
 "metadata": {
  "kernelspec": {
   "display_name": "Python 3 (ipykernel)",
   "language": "python",
   "name": "python3"
  },
  "language_info": {
   "codemirror_mode": {
    "name": "ipython",
    "version": 3
   },
   "file_extension": ".py",
   "mimetype": "text/x-python",
   "name": "python",
   "nbconvert_exporter": "python",
   "pygments_lexer": "ipython3",
   "version": "3.9.6"
  }
 },
 "nbformat": 4,
 "nbformat_minor": 5
}
