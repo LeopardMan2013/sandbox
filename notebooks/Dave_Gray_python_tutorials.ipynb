{
 "cells": [
  {
   "cell_type": "markdown",
   "id": "57ea3339-adbd-4754-adfd-096c984b4af9",
   "metadata": {},
   "source": [
    "[Dave Gray - Python Tutorials for Beginners](https://www.youtube.com/playlist?list=PL0Zuz27SZ-6MQri81d012LwP5jvFZ_scc)"
   ]
  },
  {
   "cell_type": "markdown",
   "id": "f3c7ba7b-04c3-496d-860b-02c596fb5302",
   "metadata": {},
   "source": [
    "[Lesson 2](https://www.youtube.com/watch?v=fLAfa-BQtOQ&list=PL0Zuz27SZ-6MQri81d012LwP5jvFZ_scc&index=2)"
   ]
  },
  {
   "cell_type": "code",
   "execution_count": 12,
   "id": "64e4c474-9ad7-4020-a7c4-0a9acc30117d",
   "metadata": {},
   "outputs": [
    {
     "data": {
      "text/plain": [
       "'Jack is cool'"
      ]
     },
     "execution_count": 12,
     "metadata": {},
     "output_type": "execute_result"
    }
   ],
   "source": [
    "I = \"Jack\"\n",
    "I + \" is cool\"\n"
   ]
  },
  {
   "cell_type": "raw",
   "id": "85c0cabc-e3a3-40b8-bd46-2c102b34a110",
   "metadata": {},
   "source": [
    "Note that even though 'Jack is cool' printed, this was not stored in I.  So ' is cool' will be lost"
   ]
  },
  {
   "cell_type": "code",
   "execution_count": 13,
   "id": "c2975814-5790-4b0a-8cd9-56e45ceee266",
   "metadata": {},
   "outputs": [
    {
     "data": {
      "text/plain": [
       "'Jack'"
      ]
     },
     "execution_count": 13,
     "metadata": {},
     "output_type": "execute_result"
    }
   ],
   "source": [
    "I"
   ]
  },
  {
   "cell_type": "code",
   "execution_count": 14,
   "id": "dce76cc3-ae60-42f1-a91c-8f12aa00ba58",
   "metadata": {},
   "outputs": [
    {
     "name": "stdout",
     "output_type": "stream",
     "text": [
      "\n",
      "********************\n",
      "*                  *\n",
      "*     WELCOME!     *\n",
      "*                  *\n",
      "********************\n"
     ]
    }
   ],
   "source": [
    "line01 = \"********************\"\n",
    "line02 = \"*                  *\"\n",
    "line03 = \"*     WELCOME!     *\"\n",
    "\n",
    "\n",
    "\n",
    "print('')\n",
    "print(line01)\n",
    "print(line02)\n",
    "print(line03)\n",
    "print(line02)\n",
    "print(line01)"
   ]
  },
  {
   "cell_type": "markdown",
   "id": "cde4f0a9-fda5-4987-b3c1-5e0db9dc2090",
   "metadata": {},
   "source": [
    "[Lesson 3](https://youtu.be/7BxUaeROVXI?si=zOKC33dalCSPPFY9)"
   ]
  },
  {
   "cell_type": "code",
   "execution_count": 28,
   "id": "7cb33ac8-b62c-4963-bba8-3564a541ec8f",
   "metadata": {},
   "outputs": [
    {
     "data": {
      "text/plain": [
       "4"
      ]
     },
     "execution_count": 28,
     "metadata": {},
     "output_type": "execute_result"
    }
   ],
   "source": [
    "2 ** 2"
   ]
  },
  {
   "cell_type": "code",
   "execution_count": 16,
   "id": "5d561d99-7d08-45df-a9ec-9e424dca36ac",
   "metadata": {},
   "outputs": [
    {
     "data": {
      "text/plain": [
       "64"
      ]
     },
     "execution_count": 16,
     "metadata": {},
     "output_type": "execute_result"
    }
   ],
   "source": [
    "2 ** 6"
   ]
  },
  {
   "cell_type": "code",
   "execution_count": 47,
   "id": "01a123a7-7265-45c5-95fb-8664b6a92e9f",
   "metadata": {},
   "outputs": [
    {
     "name": "stdout",
     "output_type": "stream",
     "text": [
      "value: 107 type: <class 'int'>\n"
     ]
    }
   ],
   "source": [
    "meaning = 45\n",
    "meaning += 62\n",
    "print(f'value: {meaning} type: {type(meaning)}')"
   ]
  },
  {
   "cell_type": "code",
   "execution_count": 48,
   "id": "a07a0add-05df-473a-9439-00428f5337b9",
   "metadata": {},
   "outputs": [
    {
     "name": "stdout",
     "output_type": "stream",
     "text": [
      "value: 10.7 type: <class 'float'>\n"
     ]
    }
   ],
   "source": [
    "meaning /= 10\n",
    "meaning\n",
    "print(f'value: {meaning} type: {type(meaning)}')"
   ]
  },
  {
   "cell_type": "code",
   "execution_count": 49,
   "id": "2016de5d-b997-4e40-b61c-ca072d35d7dd",
   "metadata": {},
   "outputs": [
    {
     "name": "stdout",
     "output_type": "stream",
     "text": [
      "value: 107.0 type: <class 'float'>\n"
     ]
    }
   ],
   "source": [
    "meaning *= 10\n",
    "meaning\n",
    "print(f'value: {meaning} type: {type(meaning)}')"
   ]
  },
  {
   "cell_type": "code",
   "execution_count": 50,
   "id": "701a08c1-8235-436f-9065-42148ea9f165",
   "metadata": {},
   "outputs": [
    {
     "name": "stdout",
     "output_type": "stream",
     "text": [
      "meaning == 107: True\n",
      "value: 107.0 type: <class 'float'>\n"
     ]
    }
   ],
   "source": [
    "print(f'meaning == 107: {meaning == 107}')\n",
    "print(f'value: {meaning} type: {type(meaning)}')"
   ]
  },
  {
   "cell_type": "code",
   "execution_count": 51,
   "id": "9952cf1c-d5aa-4952-9a5b-d17a2a400552",
   "metadata": {},
   "outputs": [
    {
     "name": "stdout",
     "output_type": "stream",
     "text": [
      "value: 107 type: <class 'int'>\n"
     ]
    }
   ],
   "source": [
    "meaning = round(meaning)\n",
    "meaning\n",
    "print(f'value: {meaning} type: {type(meaning)}')"
   ]
  },
  {
   "cell_type": "code",
   "execution_count": 52,
   "id": "f79a07c0-56e3-4f94-865e-0c15805457b9",
   "metadata": {},
   "outputs": [
    {
     "data": {
      "text/plain": [
       "'Jack MacDonald'"
      ]
     },
     "execution_count": 52,
     "metadata": {},
     "output_type": "execute_result"
    }
   ],
   "source": [
    "\"Jack \" + \"MacDonald\""
   ]
  },
  {
   "cell_type": "code",
   "execution_count": 54,
   "id": "e6eafc45-e255-42f3-94c0-82c47c027fa2",
   "metadata": {},
   "outputs": [
    {
     "name": "stdout",
     "output_type": "stream",
     "text": [
      "43 != 42: True\n"
     ]
    }
   ],
   "source": [
    "print(f'43 != 42: {43 != 42}')"
   ]
  },
  {
   "cell_type": "code",
   "execution_count": 24,
   "id": "cf8827d3-00d2-48b2-85bc-b482598b8810",
   "metadata": {},
   "outputs": [
    {
     "name": "stdout",
     "output_type": "stream",
     "text": [
      "\n",
      "Right on!\n"
     ]
    }
   ],
   "source": [
    "meaning = 14\n",
    "print('')\n",
    "\n",
    "if meaning > 10:\n",
    "    print(\"Right on!\")\n",
    "else:\n",
    "    print(\"Not today\")"
   ]
  },
  {
   "cell_type": "code",
   "execution_count": null,
   "id": "295238ee-dbbd-4159-935a-8c803a9dfe86",
   "metadata": {},
   "outputs": [],
   "source": []
  }
 ],
 "metadata": {
  "kernelspec": {
   "display_name": "Python 3 (ipykernel)",
   "language": "python",
   "name": "python3"
  },
  "language_info": {
   "codemirror_mode": {
    "name": "ipython",
    "version": 3
   },
   "file_extension": ".py",
   "mimetype": "text/x-python",
   "name": "python",
   "nbconvert_exporter": "python",
   "pygments_lexer": "ipython3",
   "version": "3.9.6"
  }
 },
 "nbformat": 4,
 "nbformat_minor": 5
}
