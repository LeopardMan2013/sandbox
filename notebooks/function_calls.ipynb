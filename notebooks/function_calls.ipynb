{
 "cells": [
  {
   "cell_type": "code",
   "execution_count": 2,
   "id": "769a580a-0fdb-476d-9d8a-90c0fc838d9a",
   "metadata": {},
   "outputs": [],
   "source": [
    "def add(x,y):\n",
    "    return x + y"
   ]
  },
  {
   "cell_type": "code",
   "execution_count": 3,
   "id": "23c54754-cbc2-435c-822c-4e2617bdce2e",
   "metadata": {},
   "outputs": [],
   "source": [
    "x = add(100,200)"
   ]
  },
  {
   "cell_type": "code",
   "execution_count": 4,
   "id": "5fcbae48-dc19-42c5-93d9-5800e4c1a592",
   "metadata": {},
   "outputs": [
    {
     "name": "stdout",
     "output_type": "stream",
     "text": [
      "300\n"
     ]
    }
   ],
   "source": [
    "print(x)"
   ]
  },
  {
   "cell_type": "code",
   "execution_count": 10,
   "id": "0e2126b2-681f-41b0-a1d5-145544294f4a",
   "metadata": {},
   "outputs": [],
   "source": [
    "def iterate_list_directly(lst):\n",
    "    print(\"running iterate_list_directly()\")\n",
    "    for i in lst:\n",
    "        print(i)"
   ]
  },
  {
   "cell_type": "code",
   "execution_count": 11,
   "id": "788a0922-a243-4e62-8bcd-944184049755",
   "metadata": {},
   "outputs": [],
   "source": [
    "def iterate_list_using_range(lst):\n",
    "    print(\"running iterate_list_using_range()\")\n",
    "    for i in range(len(lst)):\n",
    "        print(f'index: {i} lst[{i}]: {lst[i]}')"
   ]
  },
  {
   "cell_type": "code",
   "execution_count": 14,
   "id": "ac4e616a-aaaf-4d6f-bccc-f796902465f0",
   "metadata": {},
   "outputs": [
    {
     "name": "stdout",
     "output_type": "stream",
     "text": [
      "list is [1, 2, 4532, 24, 425, 52]\n",
      "running iterate_list_directly()\n",
      "1\n",
      "2\n",
      "4532\n",
      "24\n",
      "425\n",
      "52\n",
      "running iterate_list_using_range()\n",
      "index: 0 lst[0]: 1\n",
      "index: 1 lst[1]: 2\n",
      "index: 2 lst[2]: 4532\n",
      "index: 3 lst[3]: 24\n",
      "index: 4 lst[4]: 425\n",
      "index: 5 lst[5]: 52\n"
     ]
    }
   ],
   "source": [
    "lst = [1,2,4532,24,425,52]\n",
    "print(f'list is {lst}')\n",
    "iterate_list_directly(lst)\n",
    "iterate_list_using_range(lst)"
   ]
  },
  {
   "cell_type": "code",
   "execution_count": null,
   "id": "1162b601-33c1-4d0e-b301-10e85841cdfb",
   "metadata": {},
   "outputs": [],
   "source": []
  }
 ],
 "metadata": {
  "kernelspec": {
   "display_name": "Python 3 (ipykernel)",
   "language": "python",
   "name": "python3"
  },
  "language_info": {
   "codemirror_mode": {
    "name": "ipython",
    "version": 3
   },
   "file_extension": ".py",
   "mimetype": "text/x-python",
   "name": "python",
   "nbconvert_exporter": "python",
   "pygments_lexer": "ipython3",
   "version": "3.9.6"
  }
 },
 "nbformat": 4,
 "nbformat_minor": 5
}
