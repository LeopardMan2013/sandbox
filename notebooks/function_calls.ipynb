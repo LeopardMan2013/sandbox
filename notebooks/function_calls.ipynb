{
 "cells": [
  {
   "cell_type": "code",
   "execution_count": 1,
   "id": "769a580a-0fdb-476d-9d8a-90c0fc838d9a",
   "metadata": {},
   "outputs": [],
   "source": [
    "def add(x,y):\n",
    "    return x + y"
   ]
  },
  {
   "cell_type": "code",
   "execution_count": 2,
   "id": "23c54754-cbc2-435c-822c-4e2617bdce2e",
   "metadata": {},
   "outputs": [],
   "source": [
    "x = add(100,200)"
   ]
  },
  {
   "cell_type": "code",
   "execution_count": 3,
   "id": "5fcbae48-dc19-42c5-93d9-5800e4c1a592",
   "metadata": {},
   "outputs": [
    {
     "name": "stdout",
     "output_type": "stream",
     "text": [
      "300\n"
     ]
    }
   ],
   "source": [
    "print(x)"
   ]
  },
  {
   "cell_type": "code",
   "execution_count": 4,
   "id": "0e2126b2-681f-41b0-a1d5-145544294f4a",
   "metadata": {},
   "outputs": [],
   "source": [
    "def iterate_list_directly(lst):\n",
    "    print(\"running iterate_list_directly()\")\n",
    "    for i in lst:\n",
    "        print(i)"
   ]
  },
  {
   "cell_type": "code",
   "execution_count": 5,
   "id": "788a0922-a243-4e62-8bcd-944184049755",
   "metadata": {},
   "outputs": [],
   "source": [
    "def iterate_list_using_range(lst):\n",
    "    print(\"running iterate_list_using_range()\")\n",
    "    for i in range(len(lst)):\n",
    "        print(f'index: {i} lst[{i}]: {lst[i]}')"
   ]
  },
  {
   "cell_type": "code",
   "execution_count": 6,
   "id": "ac4e616a-aaaf-4d6f-bccc-f796902465f0",
   "metadata": {},
   "outputs": [
    {
     "name": "stdout",
     "output_type": "stream",
     "text": [
      "list is [1, 2, 4532, 24, 425, 52]\n",
      "running iterate_list_directly()\n",
      "1\n",
      "2\n",
      "4532\n",
      "24\n",
      "425\n",
      "52\n",
      "running iterate_list_using_range()\n",
      "index: 0 lst[0]: 1\n",
      "index: 1 lst[1]: 2\n",
      "index: 2 lst[2]: 4532\n",
      "index: 3 lst[3]: 24\n",
      "index: 4 lst[4]: 425\n",
      "index: 5 lst[5]: 52\n"
     ]
    }
   ],
   "source": [
    "lst = [1,2,4532,24,425,52]\n",
    "print(f'list is {lst}')\n",
    "iterate_list_directly(lst)\n",
    "iterate_list_using_range(lst)"
   ]
  },
  {
   "cell_type": "code",
   "execution_count": 7,
   "id": "1162b601-33c1-4d0e-b301-10e85841cdfb",
   "metadata": {},
   "outputs": [
    {
     "name": "stdout",
     "output_type": "stream",
     "text": [
      "*******\n"
     ]
    }
   ],
   "source": [
    "n = 7\n",
    "print('*'*n)"
   ]
  },
  {
   "cell_type": "code",
   "execution_count": 8,
   "id": "e247b10b-3083-449e-b15b-7f7a6f35acc0",
   "metadata": {},
   "outputs": [
    {
     "name": "stdout",
     "output_type": "stream",
     "text": [
      "*\n",
      "***\n",
      "*****\n",
      "*******\n"
     ]
    }
   ],
   "source": [
    "for i in range(1,n+1):\n",
    "    if i % 2 == 0:\n",
    "        continue\n",
    "    else:\n",
    "        print(i*'*')"
   ]
  },
  {
   "cell_type": "code",
   "execution_count": 10,
   "id": "ff14b966-d443-4efd-add7-c76267187d8a",
   "metadata": {},
   "outputs": [
    {
     "name": "stdout",
     "output_type": "stream",
     "text": [
      "In list [1, 2] value is 1\n",
      "In list [1, 2] value is 2\n",
      "In list [3, 4] value is 3\n",
      "In list [3, 4] value is 4\n"
     ]
    }
   ],
   "source": [
    "l = [[1, 2], [3, 4]]\n",
    "for i in l:\n",
    "    for i_i in i:\n",
    "        print(f'In list {i} value is {i_i}')"
   ]
  },
  {
   "cell_type": "code",
   "execution_count": 63,
   "id": "fa2e0e31-9432-419e-a15d-a470ac050bd3",
   "metadata": {},
   "outputs": [],
   "source": [
    "def transpose(lst):\n",
    "    rows = len(lst)\n",
    "    transposed_list = []\n",
    "    if rows != 0:\n",
    "        columns = len(lst[0])\n",
    "        for i in range(columns):\n",
    "            transposed_list = [[0 for _ in range(rows)] for _ in range(columns)]\n",
    "        for i in range(len(lst)):\n",
    "            for j in range(len(lst[i])):\n",
    "                #print(f'i {i} j {j}')\n",
    "                transposed_list[j][i] = lst[i][j]\n",
    "    print(transposed_list)\n",
    "                "
   ]
  },
  {
   "cell_type": "code",
   "execution_count": 65,
   "id": "b8f70110-cf3f-44a9-b049-c7f8e9f0e1e2",
   "metadata": {},
   "outputs": [
    {
     "name": "stdout",
     "output_type": "stream",
     "text": [
      "[]\n"
     ]
    }
   ],
   "source": [
    "#l = [[1, 2], [3, 4]]\n",
    "#l = [[1]]\n",
    "#l = [[1, 2, 3],[4, 5, 6],[7, 8, 9]]\n",
    "#l = lst = [[1, 2],[4, 5],[7, 8]]\n",
    "l = []\n",
    "transpose(l)"
   ]
  },
  {
   "cell_type": "code",
   "execution_count": 25,
   "id": "fa5567a2-b56b-4892-8d60-df50ca04b2d7",
   "metadata": {},
   "outputs": [],
   "source": [
    "def whatToBuy(prices, quantities, restriction, names):\n",
    "    list_to_buy = []\n",
    "    items_dropped = 0\n",
    "    final_list = []\n",
    "    if len(prices) != 0:\n",
    "        average_quantity = sum(quantities) / len(quantities)\n",
    "        average_price = sum(prices) / len(prices)\n",
    "        for i in range(len(prices)):    \n",
    "            print(f'price {prices[i]} quantity {quantities[i]} name {names[i]}')\n",
    "            total_price = (prices[i] * quantities[i]) / (average_quantity * average_price)\n",
    "            print(total_price)\n",
    "            if total_price <= restriction:\n",
    "                list_to_buy.append(names[i])\n",
    "            else:\n",
    "                items_dropped += 1\n",
    "    list_to_buy.sort()\n",
    "    final_list.append(list_to_buy)\n",
    "    final_list.append(items_dropped)\n",
    "    return final_list\n"
   ]
  },
  {
   "cell_type": "code",
   "execution_count": 26,
   "id": "807430ce-b6e4-4406-96d2-e6ece8409288",
   "metadata": {},
   "outputs": [
    {
     "name": "stdout",
     "output_type": "stream",
     "text": [
      "price 5 quantity 1 name pencil\n",
      "0.35923753665689145\n",
      "price 2 quantity 1 name bottle\n",
      "0.14369501466275658\n",
      "price 9 quantity 1 name wallet\n",
      "0.6466275659824047\n",
      "price 3 quantity 1 name phone\n",
      "0.21554252199413487\n",
      "price 1 quantity 6 name toy\n",
      "0.43108504398826974\n",
      "price 2 quantity 6 name mouse\n",
      "0.8621700879765395\n",
      "price 9 quantity 6 name door\n",
      "3.879765395894428\n"
     ]
    },
    {
     "data": {
      "text/plain": [
       "[['bottle', 'pencil', 'phone', 'toy'], 3]"
      ]
     },
     "execution_count": 26,
     "metadata": {},
     "output_type": "execute_result"
    }
   ],
   "source": [
    "p = [5, 2, 9, 3, 1, 2, 9]\n",
    "q = [1, 1, 1, 1, 6, 6, 6]\n",
    "r = 0.5\n",
    "n = ['pencil', 'bottle', 'wallet', 'phone', 'toy', 'mouse', 'door']\n",
    "whatToBuy(p,q,r,n)"
   ]
  }
 ],
 "metadata": {
  "kernelspec": {
   "display_name": "Python 3 (ipykernel)",
   "language": "python",
   "name": "python3"
  },
  "language_info": {
   "codemirror_mode": {
    "name": "ipython",
    "version": 3
   },
   "file_extension": ".py",
   "mimetype": "text/x-python",
   "name": "python",
   "nbconvert_exporter": "python",
   "pygments_lexer": "ipython3",
   "version": "3.9.6"
  }
 },
 "nbformat": 4,
 "nbformat_minor": 5
}
